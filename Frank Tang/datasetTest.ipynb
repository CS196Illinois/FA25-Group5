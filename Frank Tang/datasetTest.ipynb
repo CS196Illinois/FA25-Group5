{
 "cells": [
  {
   "cell_type": "code",
   "execution_count": 7,
   "id": "61725351-d411-4242-a30a-68af7e1d0c38",
   "metadata": {},
   "outputs": [
    {
     "name": "stdout",
     "output_type": "stream",
     "text": [
      "   Year    Term YearTerm Subject  Number                          Name  \\\n",
      "0  2025  Spring  2025-sp     AAS     100  Intro Asian American Studies   \n",
      "1  2025  Spring  2025-sp     AAS     100  Intro Asian American Studies   \n",
      "2  2025  Spring  2025-sp     AAS     100  Intro Asian American Studies   \n",
      "3  2025  Spring  2025-sp     AAS     100  Intro Asian American Studies   \n",
      "4  2025  Spring  2025-sp     AAS     100  Intro Asian American Studies   \n",
      "\n",
      "                                         Description Credit Hours  \\\n",
      "0  Interdisciplinary introduction to the basic co...     3 hours.   \n",
      "1  Interdisciplinary introduction to the basic co...     3 hours.   \n",
      "2  Interdisciplinary introduction to the basic co...     3 hours.   \n",
      "3  Interdisciplinary introduction to the basic co...     3 hours.   \n",
      "4  Interdisciplinary introduction to the basic co...     3 hours.   \n",
      "\n",
      "  Section Info                                  Degree Attributes  ...  \\\n",
      "0          NaN  Social & Beh Sci - Soc Sci, and Cultural Studi...  ...   \n",
      "1          NaN  Social & Beh Sci - Soc Sci, and Cultural Studi...  ...   \n",
      "2          NaN  Social & Beh Sci - Soc Sci, and Cultural Studi...  ...   \n",
      "3          NaN  Social & Beh Sci - Soc Sci, and Cultural Studi...  ...   \n",
      "4          NaN  Social & Beh Sci - Soc Sci, and Cultural Studi...  ...   \n",
      "\n",
      "  Section Status  Enrollment Status                   Type Type Code  \\\n",
      "0              A             Closed     Lecture-Discussion       LCD   \n",
      "1              A               Open  Discussion/Recitation       DIS   \n",
      "2              A               Open  Discussion/Recitation       DIS   \n",
      "3              A               Open  Discussion/Recitation       DIS   \n",
      "4              A               Open  Discussion/Recitation       DIS   \n",
      "\n",
      "  Start Time  End Time Days of Week  Room                       Building  \\\n",
      "0   02:00 PM  03:20 PM           MW   304               Noyes Laboratory   \n",
      "1   09:00 AM  09:50 AM            F  1030  Literatures, Cultures, & Ling   \n",
      "2   10:00 AM  10:50 AM            F  1030  Literatures, Cultures, & Ling   \n",
      "3   11:00 AM  11:50 AM            F  1030  Literatures, Cultures, & Ling   \n",
      "4   12:00 PM  12:50 PM            F  1030  Literatures, Cultures, & Ling   \n",
      "\n",
      "         Instructors  \n",
      "0            Geng, C  \n",
      "1  Siglos, D;Wang, Y  \n",
      "2  Siglos, D;Wang, Y  \n",
      "3   Kim, G;Siglos, D  \n",
      "4   Kim, G;Siglos, D  \n",
      "\n",
      "[5 rows x 27 columns]\n"
     ]
    }
   ],
   "source": [
    "import pandas as pd\n",
    "df = pd .read_csv('course-catalog.csv')\n",
    "print(df.head())"
   ]
  },
  {
   "cell_type": "code",
   "execution_count": 8,
   "id": "f1c77bc2",
   "metadata": {},
   "outputs": [],
   "source": [
    "dis_courses = df[df['Type Code'] == 'DIS']\n"
   ]
  },
  {
   "cell_type": "code",
   "execution_count": 9,
   "id": "1e89097d",
   "metadata": {},
   "outputs": [
    {
     "name": "stdout",
     "output_type": "stream",
     "text": [
      "1                      Intro Asian American Studies\n",
      "26                      Race and Cultural Diversity\n",
      "47                       Undergraduate Open Seminar\n",
      "61                       Capstone Design Experience\n",
      "79                     Accounting and Accountancy I\n",
      "                            ...                    \n",
      "11733                                       Statics\n",
      "11744                         Introductory Dynamics\n",
      "11763                  Introductory Solid Mechanics\n",
      "12178    Ecology &amp; Environmental Sustainability\n",
      "12245                  Current Lit Sm Anim Medicine\n",
      "Name: Name, Length: 289, dtype: object\n"
     ]
    }
   ],
   "source": [
    "unique_names = dis_courses['Name'].drop_duplicates()\n",
    "print(unique_names)"
   ]
  },
  {
   "cell_type": "code",
   "execution_count": 10,
   "id": "1699902a",
   "metadata": {},
   "outputs": [
    {
     "name": "stdout",
     "output_type": "stream",
     "text": [
      "                          Name                    Instructors Subject\n",
      "5667       Academic Strategies                      Kramer, J    HDFS\n",
      "2271  Accelerated Chemistry II  Decoste, D;Gao, H;McCarren, E    CHEM\n",
      "2267  Accelerated Chemistry II         Decoste, D;Lopansri, T    CHEM\n",
      "2268  Accelerated Chemistry II         Decoste, D;Lopansri, T    CHEM\n",
      "2266  Accelerated Chemistry II            Decoste, D;Shell, S    CHEM\n"
     ]
    }
   ],
   "source": [
    "ordered_courses = dis_courses.sort_values(by=['Name', 'Instructors', 'Subject'])\n",
    "print(ordered_courses[['Name', 'Instructors', 'Subject']].head(5))"
   ]
  },
  {
   "cell_type": "code",
   "execution_count": 2,
   "id": "600bf086",
   "metadata": {
    "vscode": {
     "languageId": "javascript"
    }
   },
   "outputs": [
    {
     "name": "stdout",
     "output_type": "stream",
     "text": [
      "   Year    Term YearTerm Subject  Number                  Course Title  \\\n",
      "0  2025  Spring  2025-sp     AAS     100  Intro Asian American Studies   \n",
      "1  2025  Spring  2025-sp     AAS     200          U.S. Race and Empire   \n",
      "2  2025  Spring  2025-sp     AAS     211  Asian Americans and the Arts   \n",
      "3  2025  Spring  2025-sp     AAS     215  US Citizenship Comparatively   \n",
      "4  2025  Spring  2025-sp     AAS     287      Food and Asian Americans   \n",
      "\n",
      "  Sched Type  A+   A  A-  ...  C+  C  C-  D+  D  D-  F  W  Students  \\\n",
      "0        LCD   3  21   1  ...   0  1   0   0  0   0  1  0        28   \n",
      "1        LCD   0  33   0  ...   0  0   0   0  0   0  1  0        34   \n",
      "2        LCD   0  22   1  ...   0  0   0   0  0   0  0  0        24   \n",
      "3        LCD   5  12   5  ...   0  0   0   0  1   0  0  0        30   \n",
      "4        LCD   9  12   8  ...   0  0   1   0  0   0  0  1        31   \n",
      "\n",
      "   Primary Instructor  \n",
      "0           Geng, Zhe  \n",
      "1    Sawada, Emilia R  \n",
      "2    Sawada, Emilia R  \n",
      "3     Siglos, David G  \n",
      "4      Kang, Simrat A  \n",
      "\n",
      "[5 rows x 23 columns]\n"
     ]
    }
   ],
   "source": [
    "import pandas as pd\n",
    "\n",
    "gpa_df = pd.read_csv('uiuc-gpa-dataset.csv')\n",
    "print(gpa_df.head())"
   ]
  },
  {
   "cell_type": "code",
   "execution_count": 3,
   "id": "95648482",
   "metadata": {},
   "outputs": [
    {
     "name": "stdout",
     "output_type": "stream",
     "text": [
      "                   Course Title   A\n",
      "0  Intro Asian American Studies  21\n",
      "1          U.S. Race and Empire  33\n",
      "2  Asian Americans and the Arts  22\n",
      "3  US Citizenship Comparatively  12\n",
      "4      Food and Asian Americans  12\n"
     ]
    }
   ],
   "source": [
    "course_a_counts = gpa_df[['Course Title', 'A']]\n",
    "print(course_a_counts.head())"
   ]
  },
  {
   "cell_type": "code",
   "execution_count": 8,
   "id": "9942a30a",
   "metadata": {
    "vscode": {
     "languageId": "javascript"
    }
   },
   "outputs": [
    {
     "ename": "NameError",
     "evalue": "name 'df' is not defined",
     "output_type": "error",
     "traceback": [
      "\u001b[31m---------------------------------------------------------------------------\u001b[39m",
      "\u001b[31mNameError\u001b[39m                                 Traceback (most recent call last)",
      "\u001b[36mCell\u001b[39m\u001b[36m \u001b[39m\u001b[32mIn[8]\u001b[39m\u001b[32m, line 1\u001b[39m\n\u001b[32m----> \u001b[39m\u001b[32m1\u001b[39m merged_df = course_a_counts.merge(\u001b[43mdf\u001b[49m, left_on=\u001b[33m'\u001b[39m\u001b[33mCourse Title\u001b[39m\u001b[33m'\u001b[39m, right_on=\u001b[33m'\u001b[39m\u001b[33mName\u001b[39m\u001b[33m'\u001b[39m, how=\u001b[33m'\u001b[39m\u001b[33minner\u001b[39m\u001b[33m'\u001b[39m)\n\u001b[32m      2\u001b[39m \u001b[38;5;28mprint\u001b[39m(merged_df.head())\n",
      "\u001b[31mNameError\u001b[39m: name 'df' is not defined"
     ]
    }
   ],
   "source": [
    "merged_df = course_a_counts.merge(df, left_on='Course Title', right_on='Name', how='inner')\n",
    "print(merged_df.head())"
   ]
  }
 ],
 "metadata": {
  "kernelspec": {
   "display_name": "Python 3",
   "language": "python",
   "name": "python3"
  },
  "language_info": {
   "codemirror_mode": {
    "name": "ipython",
    "version": 3
   },
   "file_extension": ".py",
   "mimetype": "text/x-python",
   "name": "python",
   "nbconvert_exporter": "python",
   "pygments_lexer": "ipython3",
   "version": "3.12.9"
  }
 },
 "nbformat": 4,
 "nbformat_minor": 5
}
