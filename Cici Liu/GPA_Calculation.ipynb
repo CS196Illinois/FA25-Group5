{
 "cells": [
  {
   "cell_type": "code",
   "execution_count": 11,
   "id": "1a2de368",
   "metadata": {},
   "outputs": [],
   "source": [
    "import pandas as pd\n",
    "import ast\n"
   ]
  },
  {
   "cell_type": "code",
   "execution_count": 12,
   "id": "bb3845e2",
   "metadata": {},
   "outputs": [
    {
     "ename": "SyntaxError",
     "evalue": "unterminated string literal (detected at line 2) (3802939955.py, line 2)",
     "output_type": "error",
     "traceback": [
      "  \u001b[36mCell\u001b[39m\u001b[36m \u001b[39m\u001b[32mIn[12]\u001b[39m\u001b[32m, line 2\u001b[39m\n\u001b[31m    \u001b[39m\u001b[31mdf = pd.read_csv(\"modified-2025-sp (with RMP).csv\", encoding='utf-8-sig\")\u001b[39m\n                                                                 ^\n\u001b[31mSyntaxError\u001b[39m\u001b[31m:\u001b[39m unterminated string literal (detected at line 2)\n"
     ]
    }
   ],
   "source": [
    "try:\n",
    "    df = pd.read_csv(\"modified-2025-sp (with RMP).csv\", encoding='utf-8-sig\")\n",
    "except UnicodeDecodeError:\n",
    "    # Fallback for Windows encodings\n",
    "    df = pd.read_csv(\"modified-2025-sp (with RMP).csv\", encoding='latin1\")\n",
    "\n",
    "#df.columns\n",
    "\n",
    "#df.head(3)\n",
    "\n",
    "#df[df['Name'].str.contains(\"CS124\", case=False, na=False)][['Subject', 'Number', 'Name']]\n"
   ]
  },
  {
   "cell_type": "code",
   "execution_count": null,
   "id": "3a1d6ba9",
   "metadata": {},
   "outputs": [],
   "source": [
    "#define GPA mapping from A+ to F\n",
    "grade_points = {\n",
    "    'A+': 4.0,\n",
    "    'A': 4.0,\n",
    "    'A-': 3.7,\n",
    "    'B+': 3.3,\n",
    "    'B': 3.0,\n",
    "    'B-': 2.7,\n",
    "    'C+': 2.3,\n",
    "    'C': 2.0,\n",
    "    'C-': 1.7,\n",
    "    'D+': 1.3,\n",
    "    'D': 1.0,\n",
    "    'D-': 0.7,\n",
    "    'F': 0.0\n",
    "}"
   ]
  },
  {
   "cell_type": "code",
   "execution_count": null,
   "id": "4d61a13a",
   "metadata": {},
   "outputs": [],
   "source": [
    "#a function to calculate GPA for a course\n",
    "def calculate_gpa(rowIndex) :\n",
    "\n",
    "    #print(\"test\")\n",
    "    #matchClass = ( (df['Subject'] == course_name.split(' ')[0]) & (df['Number'] == int(course_name.split(' ')[1])) )\n",
    "\n",
    "    #course_rows = df.loc[matchClass]\n",
    "\n",
    "    #print(df[df[\"Course\"]].astype(str).str.contains(\"ECON 101\", case=False, na=False))\n",
    "\n",
    "    \n",
    "    \n",
    "    grade_str = df.iloc[rowIndex]['Mean Grade By Class (A+..F,W,Students)']\n",
    "    #print(grade_str)\n",
    "    if grade_str == None:\n",
    "        return None\n",
    "\n",
    "\n",
    "    #conver this string into a python list \n",
    "    grade_data = ast.literal_eval(grade_str)\n",
    "    #print(grade_data)\n",
    "    grade_counts = grade_data[:-2] # count everything except last two\n",
    "    #print(grade_counts)\n",
    "    withdraw_count = grade_data[-2]\n",
    "    #print(withdraw_count)\n",
    "    total_students = grade_data[-1] #total # of students, take last \n",
    "    #print(total_students)\n",
    "\n",
    "\n",
    "    valid_students = total_students - withdraw_count\n",
    "    total_points = 0\n",
    "\n",
    "    for count, grade_value in zip(grade_counts, grade_points.values()):\n",
    "        total_points += count * grade_value\n",
    "    \n",
    "    gpa = total_points / valid_students\n",
    "    return round(gpa, 2) \n",
    "\n",
    "\n"
   ]
  },
  {
   "cell_type": "code",
   "execution_count": null,
   "id": "8cb19ad1",
   "metadata": {},
   "outputs": [],
   "source": [
    "def percent_above_grade(row_index, min_grade, df) :\n",
    "\n",
    "    if min_grade not in grade_points :\n",
    "        print(f\"Invalid grade. Must be one of {list(grade_points.keys())}\")\n",
    "        return None\n",
    "    \n",
    "    \n",
    "    if row_index < 0 or row_index >= len(df):\n",
    "        print(f\"Row {row_index} is out of range\")\n",
    "        return None\n",
    "    \n",
    "    row = df.iloc[row_index]\n",
    "\n",
    "    try: \n",
    "        grade_str = ast.literal_eval(row['Mean Grade By Class (A+..F,W,Students)'])\n",
    "    except Exception as e:\n",
    "        print(f\"Could not parse grade data for row {row_index}: {e}\")\n",
    "        return None\n",
    "\n",
    "    grade_counts = grade_str[:-2]\n",
    "    withdraw_count = grade_str[-2]\n",
    "    total_students = grade_str[-1]\n",
    "    valid_students = total_students - withdraw_count\n",
    "\n",
    "    grade_order = list(grade_points.keys())\n",
    "    min_index = grade_order.index(min_grade)\n",
    "    qualifying_students = sum(grade_counts[:min_index + 1])\n",
    "\n",
    "    if valid_students <= 0:\n",
    "        print(\"No valid students to calculate the percentage\")\n",
    "        return None\n",
    "    \n",
    "\n",
    "    percent = (qualifying_students / valid_students) * 100\n",
    "    return round(percent, 2)\n"
   ]
  },
  {
   "cell_type": "code",
   "execution_count": null,
   "id": "d21c3306",
   "metadata": {},
   "outputs": [
    {
     "ename": "NameError",
     "evalue": "name 'calculate_gpa' is not defined",
     "output_type": "error",
     "traceback": [
      "\u001b[31m---------------------------------------------------------------------------\u001b[39m",
      "\u001b[31mNameError\u001b[39m                                 Traceback (most recent call last)",
      "\u001b[36mCell\u001b[39m\u001b[36m \u001b[39m\u001b[32mIn[4]\u001b[39m\u001b[32m, line 3\u001b[39m\n\u001b[32m      1\u001b[39m \u001b[38;5;66;03m#testing\u001b[39;00m\n\u001b[32m----> \u001b[39m\u001b[32m3\u001b[39m gpa_value = \u001b[43mcalculate_gpa\u001b[49m(\u001b[32m2323\u001b[39m)\n\u001b[32m      5\u001b[39m \u001b[38;5;28mprint\u001b[39m(gpa_value)\n\u001b[32m      7\u001b[39m result = percent_above_grade(\u001b[32m5\u001b[39m, \u001b[33m\"\u001b[39m\u001b[33mA+\u001b[39m\u001b[33m\"\u001b[39m, df)\n",
      "\u001b[31mNameError\u001b[39m: name 'calculate_gpa' is not defined"
     ]
    }
   ],
   "source": [
    "\n",
    "#testing\n",
    "\n",
    "gpa_value = calculate_gpa(2323)\n",
    "\n",
    "print(gpa_value)\n",
    "\n",
    "result = percent_above_grade(5, \"A+\", df)\n",
    "\n",
    "print(f\"{result}% of the students got at least min_grade\")\n",
    "\n",
    "\n"
   ]
  },
  {
   "cell_type": "code",
   "execution_count": null,
   "id": "cf7e200f",
   "metadata": {},
   "outputs": [],
   "source": []
  }
 ],
 "metadata": {
  "kernelspec": {
   "display_name": "Python 3",
   "language": "python",
   "name": "python3"
  },
  "language_info": {
   "codemirror_mode": {
    "name": "ipython",
    "version": 3
   },
   "file_extension": ".py",
   "mimetype": "text/x-python",
   "name": "python",
   "nbconvert_exporter": "python",
   "pygments_lexer": "ipython3",
   "version": "3.13.7"
  }
 },
 "nbformat": 4,
 "nbformat_minor": 5
}
